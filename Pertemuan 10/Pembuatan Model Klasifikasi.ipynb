{
 "cells": [
  {
   "cell_type": "markdown",
   "id": "a73c599b",
   "metadata": {},
   "source": [
    "# Pembuatan/Pembangunan Model Menggunakan Klasifikasi"
   ]
  },
  {
   "cell_type": "markdown",
   "id": "6c0d7645",
   "metadata": {},
   "source": [
    "1. DATASET\n",
    "\n",
    "Pakai data iris"
   ]
  },
  {
   "cell_type": "code",
   "execution_count": 1,
   "id": "5f311089",
   "metadata": {},
   "outputs": [],
   "source": [
    "from sklearn import datasets\n",
    "iris = datasets.load_iris()\n",
    "X = iris.data\n",
    "y = iris.target"
   ]
  },
  {
   "cell_type": "code",
   "execution_count": 2,
   "id": "845df439",
   "metadata": {},
   "outputs": [
    {
     "name": "stdout",
     "output_type": "stream",
     "text": [
      "Banyaknya data:  150\n"
     ]
    }
   ],
   "source": [
    "print(\"Banyaknya data: \",len(X))"
   ]
  },
  {
   "cell_type": "code",
   "execution_count": 3,
   "id": "6bc39287",
   "metadata": {},
   "outputs": [
    {
     "name": "stdout",
     "output_type": "stream",
     "text": [
      "15 data pertama: \n",
      "[[5.1 3.5 1.4 0.2]\n",
      " [4.9 3.  1.4 0.2]\n",
      " [4.7 3.2 1.3 0.2]\n",
      " [4.6 3.1 1.5 0.2]\n",
      " [5.  3.6 1.4 0.2]\n",
      " [5.4 3.9 1.7 0.4]\n",
      " [4.6 3.4 1.4 0.3]\n",
      " [5.  3.4 1.5 0.2]\n",
      " [4.4 2.9 1.4 0.2]\n",
      " [4.9 3.1 1.5 0.1]\n",
      " [5.4 3.7 1.5 0.2]\n",
      " [4.8 3.4 1.6 0.2]\n",
      " [4.8 3.  1.4 0.1]\n",
      " [4.3 3.  1.1 0.1]\n",
      " [5.8 4.  1.2 0.2]]\n"
     ]
    }
   ],
   "source": [
    "print(\"15 data pertama: \")\n",
    "print(X[:15])"
   ]
  },
  {
   "cell_type": "markdown",
   "id": "4066cdec",
   "metadata": {},
   "source": [
    "2. SPLIT DATA / PEMBAGIAN DATA"
   ]
  },
  {
   "cell_type": "markdown",
   "id": "e75d3b90",
   "metadata": {},
   "source": [
    "bagi training dan testing, 30% dan 70%"
   ]
  },
  {
   "cell_type": "code",
   "execution_count": 5,
   "id": "0ef04798",
   "metadata": {},
   "outputs": [],
   "source": [
    "from sklearn.model_selection import train_test_split\n",
    "X_train, X_test, y_train, y_test = train_test_split(X, y, train_size = 0.7)"
   ]
  },
  {
   "cell_type": "code",
   "execution_count": 6,
   "id": "fc9206fd",
   "metadata": {},
   "outputs": [
    {
     "name": "stdout",
     "output_type": "stream",
     "text": [
      "Banyaknya data latih:  105\n",
      "Banyaknya data tes:  45\n"
     ]
    }
   ],
   "source": [
    "print(\"Banyaknya data latih: \", len(X_train))\n",
    "print(\"Banyaknya data tes: \", len(X_test))"
   ]
  },
  {
   "cell_type": "markdown",
   "id": "531d0b44",
   "metadata": {},
   "source": [
    "pakai Cross-validation, karena data cuma sedikit"
   ]
  },
  {
   "cell_type": "markdown",
   "id": "4d821ffb",
   "metadata": {},
   "source": [
    "K-Fold"
   ]
  },
  {
   "cell_type": "code",
   "execution_count": 9,
   "id": "3c9ec5b6",
   "metadata": {},
   "outputs": [
    {
     "name": "stdout",
     "output_type": "stream",
     "text": [
      "Akurasi SVM untuk setiap fold:  [0.96666667 1.         0.96666667 0.96666667 1.        ]\n",
      "Akurasi SVM dengan 5-fold:  0.9800000000000001\n"
     ]
    }
   ],
   "source": [
    "from sklearn.model_selection import cross_val_score\n",
    "from sklearn.svm import SVC\n",
    "\n",
    "model = SVC(kernel='linear', C=1)\n",
    "scores = cross_val_score(model, X, y, cv = 5)\n",
    "\n",
    "print(\"Akurasi SVM untuk setiap fold: \", scores)\n",
    "print(\"Akurasi SVM dengan 5-fold: \", scores.mean())"
   ]
  },
  {
   "cell_type": "markdown",
   "id": "64a30500",
   "metadata": {},
   "source": [
    "## UJI COBA MODEL KLASIFIKASI"
   ]
  },
  {
   "cell_type": "markdown",
   "id": "13f3dfc3",
   "metadata": {},
   "source": [
    "1. KNN (K-Nearest Neighbors)\n",
    "\n",
    "sumber baca:\n",
    "https://scikit-learn.org/stable/modules/generated/sklearn.neighbors.KNeighborsClassifier.html#sklearn.neighbors.KNeighborsClassifier"
   ]
  },
  {
   "cell_type": "code",
   "execution_count": 19,
   "id": "df68515e",
   "metadata": {},
   "outputs": [
    {
     "name": "stdout",
     "output_type": "stream",
     "text": [
      "Akurasi model KNN sebesar:  0.9777777777777777\n"
     ]
    }
   ],
   "source": [
    "from sklearn.neighbors import KNeighborsClassifier\n",
    "from sklearn import metrics\n",
    "\n",
    "knn = KNeighborsClassifier()\n",
    "\n",
    "knn.fit(X_train, y_train)\n",
    "y_prediksi = knn.predict(X_test) #coba pakai test\n",
    "score = metrics.accuracy_score(y_test, y_prediksi)\n",
    "print(\"Akurasi model KNN sebesar: \", score)"
   ]
  },
  {
   "cell_type": "markdown",
   "id": "7fba7cbf",
   "metadata": {},
   "source": [
    "2. D-Tree (Decision Tree)\n",
    "\n",
    "sumber baca: https://scikit-learn.org/stable/modules/generated/sklearn.tree.DecisionTreeClassifier.html#sklearn.tree.DecisionTreeClassifier"
   ]
  },
  {
   "cell_type": "code",
   "execution_count": 31,
   "id": "66570510",
   "metadata": {},
   "outputs": [
    {
     "name": "stdout",
     "output_type": "stream",
     "text": [
      "Akurasi model D-Tree sebesar:  0.9777777777777777\n"
     ]
    }
   ],
   "source": [
    "from sklearn.tree import DecisionTreeClassifier\n",
    "from sklearn import metrics\n",
    "\n",
    "dtree = DecisionTreeClassifier(max_depth = None, min_samples_split = 2)\n",
    "\n",
    "dtree.fit(X_train, y_train)\n",
    "y_prediksi = dtree.predict(X_test)\n",
    "score = metrics.accuracy_score(y_test, y_prediksi)\n",
    "print(\"Akurasi model D-Tree sebesar: \", score)"
   ]
  },
  {
   "cell_type": "markdown",
   "id": "4cd16442",
   "metadata": {},
   "source": [
    "Bisa bikin hyper parameter"
   ]
  },
  {
   "cell_type": "code",
   "execution_count": 40,
   "id": "314dd07a",
   "metadata": {},
   "outputs": [
    {
     "name": "stdout",
     "output_type": "stream",
     "text": [
      "Akurasi model D-Tree sebesar:  0.7111111111111111\n"
     ]
    }
   ],
   "source": [
    "dtree = DecisionTreeClassifier(max_depth = 1, min_samples_split = 2)\n",
    "\n",
    "dtree.fit(X_train, y_train)\n",
    "y_prediksi = dtree.predict(X_test)\n",
    "score = metrics.accuracy_score(y_test, y_prediksi)\n",
    "print(\"Akurasi model D-Tree sebesar: \", score)"
   ]
  },
  {
   "cell_type": "markdown",
   "id": "53ef7d03",
   "metadata": {},
   "source": [
    "3. SVM (Support Vector Machine)\n",
    "\n",
    "sumber baca: https://scikit-learn.org/stable/modules/generated/sklearn.svm.SVC.html"
   ]
  },
  {
   "cell_type": "code",
   "execution_count": 18,
   "id": "414fdbd3",
   "metadata": {},
   "outputs": [
    {
     "name": "stdout",
     "output_type": "stream",
     "text": [
      "Akurasi model SVM sebesar:  0.9555555555555556\n"
     ]
    }
   ],
   "source": [
    "from sklearn.svm import SVC\n",
    "from sklearn import metrics\n",
    "\n",
    "svm = SVC(kernel='rbf', C = 1, gamma = 0.01) #kernel rbf\n",
    "\n",
    "svm.fit(X_train, y_train)\n",
    "y_prediksi = svm.predict(X_test)\n",
    "score = metrics.accuracy_score(y_test, y_prediksi)\n",
    "print(\"Akurasi model SVM sebesar: \", score)"
   ]
  },
  {
   "cell_type": "markdown",
   "id": "b38a52a5",
   "metadata": {},
   "source": [
    "Ganti kernel linear"
   ]
  },
  {
   "cell_type": "code",
   "execution_count": 20,
   "id": "8aa57c96",
   "metadata": {},
   "outputs": [
    {
     "name": "stdout",
     "output_type": "stream",
     "text": [
      "Akurasi model SVM-Linear sebesar:  1.0\n"
     ]
    }
   ],
   "source": [
    "svmLinear = SVC(kernel='linear', C = 1)\n",
    "svmLinear.fit(X_train, y_train)\n",
    "y_prediksi = svmLinear.predict(X_test)\n",
    "score = metrics.accuracy_score(y_test, y_prediksi)\n",
    "print(\"Akurasi model SVM-Linear sebesar: \", score)"
   ]
  },
  {
   "cell_type": "markdown",
   "id": "07f72ad5",
   "metadata": {},
   "source": [
    "4. Logistic Regression\n",
    "\n",
    "sumber baca: https://scikit-learn.org/stable/modules/generated/sklearn.linear_model.LogisticRegression.html"
   ]
  },
  {
   "cell_type": "code",
   "execution_count": 25,
   "id": "e0cf544b",
   "metadata": {},
   "outputs": [
    {
     "name": "stdout",
     "output_type": "stream",
     "text": [
      "Akurasi model Logistic Regression sebesar:  0.9777777777777777\n"
     ]
    },
    {
     "name": "stderr",
     "output_type": "stream",
     "text": [
      "C:\\Users\\alfen\\anaconda3\\lib\\site-packages\\sklearn\\linear_model\\_logistic.py:814: ConvergenceWarning: lbfgs failed to converge (status=1):\n",
      "STOP: TOTAL NO. of ITERATIONS REACHED LIMIT.\n",
      "\n",
      "Increase the number of iterations (max_iter) or scale the data as shown in:\n",
      "    https://scikit-learn.org/stable/modules/preprocessing.html\n",
      "Please also refer to the documentation for alternative solver options:\n",
      "    https://scikit-learn.org/stable/modules/linear_model.html#logistic-regression\n",
      "  n_iter_i = _check_optimize_result(\n"
     ]
    }
   ],
   "source": [
    "from sklearn.linear_model import LogisticRegression\n",
    "from sklearn import metrics\n",
    "\n",
    "lr = LogisticRegression()\n",
    "\n",
    "lr.fit(X_train, y_train)\n",
    "y_prediksi = lr.predict(X_test)\n",
    "score = metrics.accuracy_score(y_test, y_prediksi)\n",
    "print(\"Akurasi model Logistic Regression sebesar: \", score)"
   ]
  },
  {
   "cell_type": "code",
   "execution_count": 28,
   "id": "0cb5171c",
   "metadata": {},
   "outputs": [
    {
     "name": "stdout",
     "output_type": "stream",
     "text": [
      "Akurasi model Logistic Regression sebesar:  0.9777777777777777\n"
     ]
    },
    {
     "name": "stderr",
     "output_type": "stream",
     "text": [
      "C:\\Users\\alfen\\anaconda3\\lib\\site-packages\\sklearn\\linear_model\\_logistic.py:814: ConvergenceWarning: lbfgs failed to converge (status=1):\n",
      "STOP: TOTAL NO. of ITERATIONS REACHED LIMIT.\n",
      "\n",
      "Increase the number of iterations (max_iter) or scale the data as shown in:\n",
      "    https://scikit-learn.org/stable/modules/preprocessing.html\n",
      "Please also refer to the documentation for alternative solver options:\n",
      "    https://scikit-learn.org/stable/modules/linear_model.html#logistic-regression\n",
      "  n_iter_i = _check_optimize_result(\n"
     ]
    }
   ],
   "source": [
    "from sklearn.linear_model import LogisticRegression\n",
    "from sklearn import metrics\n",
    "\n",
    "Lr = LogisticRegression(solver='lbfgs', max_iter=1000)\n",
    "\n",
    "lr.fit(X_train, y_train)\n",
    "y_prediksi = lr.predict(X_test)\n",
    "score = metrics.accuracy_score(y_test, y_prediksi)\n",
    "print(\"Akurasi model Logistic Regression sebesar: \", score)"
   ]
  },
  {
   "cell_type": "markdown",
   "id": "6c263d0a",
   "metadata": {},
   "source": [
    "5. Naive Bayes\n",
    "\n",
    "sumber baca: \n",
    "https://scikit-learn.org/stable/modules/generated/sklearn.naive_bayes.BernoulliNB.html#sklearn.naive_bayes.BernoulliNB"
   ]
  },
  {
   "cell_type": "code",
   "execution_count": 38,
   "id": "7a0c7e00",
   "metadata": {},
   "outputs": [
    {
     "name": "stdout",
     "output_type": "stream",
     "text": [
      "Akurasi model Naive Bayes Bernoulli sebesar:  0.26666666666666666\n"
     ]
    }
   ],
   "source": [
    "from sklearn.naive_bayes import BernoulliNB\n",
    "from sklearn import metrics\n",
    "\n",
    "nb_b = BernoulliNB()\n",
    "\n",
    "nb_b.fit(X_train, y_train)\n",
    "y_prediksi = nb_b.predict(X_test)\n",
    "score = metrics.accuracy_score(y_test, y_prediksi)\n",
    "print(\"Akurasi model Naive Bayes Bernoulli sebesar: \", score)"
   ]
  },
  {
   "cell_type": "code",
   "execution_count": 39,
   "id": "e056ea13",
   "metadata": {},
   "outputs": [
    {
     "name": "stdout",
     "output_type": "stream",
     "text": [
      "Akurasi model Naive Bayes Gaussian sebesar:  0.9555555555555556\n"
     ]
    }
   ],
   "source": [
    "from sklearn.naive_bayes import GaussianNB\n",
    "from sklearn import metrics\n",
    "\n",
    "nb_g = GaussianNB()\n",
    "\n",
    "nb_g.fit(X_train, y_train)\n",
    "y_prediksi = nb_g.predict(X_test)\n",
    "score = metrics.accuracy_score(y_test, y_prediksi)\n",
    "print(\"Akurasi model Naive Bayes Gaussian sebesar: \", score)"
   ]
  },
  {
   "cell_type": "markdown",
   "id": "e6c39ad9",
   "metadata": {},
   "source": [
    "ALFENDIO ALIF FAUDISYAH - 672019222 - METODOLOGI DATA SCIENCE"
   ]
  }
 ],
 "metadata": {
  "kernelspec": {
   "display_name": "Python 3",
   "language": "python",
   "name": "python3"
  },
  "language_info": {
   "codemirror_mode": {
    "name": "ipython",
    "version": 3
   },
   "file_extension": ".py",
   "mimetype": "text/x-python",
   "name": "python",
   "nbconvert_exporter": "python",
   "pygments_lexer": "ipython3",
   "version": "3.8.8"
  }
 },
 "nbformat": 4,
 "nbformat_minor": 5
}
